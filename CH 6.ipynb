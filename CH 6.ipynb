{
 "cells": [
  {
   "cell_type": "code",
   "execution_count": 30,
   "id": "8e16c0a7",
   "metadata": {},
   "outputs": [
    {
     "name": "stdout",
     "output_type": "stream",
     "text": [
      "Enter:Madni\n",
      "Madni\n"
     ]
    }
   ],
   "source": [
    "name = input('Enter:')\n",
    "print(name)\n"
   ]
  },
  {
   "cell_type": "code",
   "execution_count": 12,
   "id": "64820c75",
   "metadata": {},
   "outputs": [
    {
     "name": "stdout",
     "output_type": "stream",
     "text": [
      "a\n",
      "n\n"
     ]
    }
   ],
   "source": [
    "fruit = 'banana'\n",
    "letter = fruit[1]\n",
    "print(letter)\n",
    "\n",
    "x = 3\n",
    "w = fruit[x - 1]\n",
    "print(w)"
   ]
  },
  {
   "cell_type": "code",
   "execution_count": null,
   "id": "45c66478",
   "metadata": {},
   "outputs": [],
   "source": []
  },
  {
   "cell_type": "code",
   "execution_count": 14,
   "id": "e8159522",
   "metadata": {},
   "outputs": [
    {
     "ename": "IndentationError",
     "evalue": "unexpected indent (36047222.py, line 2)",
     "output_type": "error",
     "traceback": [
      "\u001b[1;36m  Cell \u001b[1;32mIn[14], line 2\u001b[1;36m\u001b[0m\n\u001b[1;33m    print(thing[2])\u001b[0m\n\u001b[1;37m    ^\u001b[0m\n\u001b[1;31mIndentationError\u001b[0m\u001b[1;31m:\u001b[0m unexpected indent\n"
     ]
    }
   ],
   "source": [
    "thing ='abc'\n",
    " print(thing[2])"
   ]
  },
  {
   "cell_type": "code",
   "execution_count": 16,
   "id": "8405f869",
   "metadata": {},
   "outputs": [
    {
     "name": "stdout",
     "output_type": "stream",
     "text": [
      "0 b\n",
      "1 a\n",
      "2 n\n",
      "3 a\n",
      "4 n\n",
      "5 a\n"
     ]
    }
   ],
   "source": [
    "fruit = 'banana'\n",
    "index = 0\n",
    "while index < len(fruit): \n",
    "    letter = fruit[index]\n",
    "    print(index, letter)\n",
    "    index = index + 1"
   ]
  },
  {
   "cell_type": "code",
   "execution_count": 18,
   "id": "7856fe99",
   "metadata": {},
   "outputs": [
    {
     "name": "stdout",
     "output_type": "stream",
     "text": [
      "a\n",
      "p\n",
      "p\n",
      "l\n",
      "e\n"
     ]
    }
   ],
   "source": [
    "fruit = 'apple'\n",
    "for letter in fruit: \n",
    "    print(letter)\n"
   ]
  },
  {
   "cell_type": "code",
   "execution_count": 19,
   "id": "4a7b263c",
   "metadata": {},
   "outputs": [
    {
     "name": "stdout",
     "output_type": "stream",
     "text": [
      "a\n",
      "v\n",
      "a\n",
      "c\n",
      "a\n",
      "d\n",
      "o\n",
      "a\n",
      "v\n",
      "a\n",
      "c\n",
      "a\n",
      "d\n",
      "o\n"
     ]
    }
   ],
   "source": [
    "fruit = 'avacado'\n",
    "for letter in fruit : \n",
    "    print(letter)\n",
    "index = 0\n",
    "while index < len(fruit) :\n",
    "    letter = fruit[index]\n",
    "    print(letter)\n",
    "    index = index + 1"
   ]
  },
  {
   "cell_type": "code",
   "execution_count": 23,
   "id": "3df6267f",
   "metadata": {},
   "outputs": [
    {
     "name": "stdout",
     "output_type": "stream",
     "text": [
      "All right, apple.\n",
      "All right, apple\n"
     ]
    }
   ],
   "source": [
    "word = 'apple'\n",
    "if word == 'apple':\n",
    "    print('All right, apple.')\n",
    "if word < 'apple':\n",
    "    print('Your word,' + word + ', comes before apple.')\n",
    "elif word > 'apple':\n",
    "    print('Your word,' + word + ', comes after apple.')\n",
    "else:\n",
    "    print('All right, apple')"
   ]
  },
  {
   "cell_type": "code",
   "execution_count": 27,
   "id": "7c7f208d",
   "metadata": {},
   "outputs": [
    {
     "name": "stdout",
     "output_type": "stream",
     "text": [
      "HELLO JES\n",
      "hello jes\n"
     ]
    }
   ],
   "source": [
    "greet = 'Hello jes'\n",
    "nnn = greet.upper()\n",
    "print(nnn)\n",
    "www = greet.lower()\n",
    "print(www)"
   ]
  },
  {
   "cell_type": "code",
   "execution_count": 28,
   "id": "8ab7a4cc",
   "metadata": {},
   "outputs": [
    {
     "name": "stdout",
     "output_type": "stream",
     "text": [
      "Hello Ainee\n",
      "HellX rXckey\n"
     ]
    }
   ],
   "source": [
    "greet = 'Hello rockey'\n",
    "string = greet.replace('rockey','Ainee')\n",
    "print(string)\n",
    "\n",
    "string= greet.replace('o','X')\n",
    "print(string)"
   ]
  },
  {
   "cell_type": "code",
   "execution_count": 29,
   "id": "55976e0e",
   "metadata": {},
   "outputs": [
    {
     "data": {
      "text/plain": [
       "True"
      ]
     },
     "execution_count": 29,
     "metadata": {},
     "output_type": "execute_result"
    }
   ],
   "source": [
    "line = 'Please have a nice day'\n",
    "line.startswith('Please')"
   ]
  },
  {
   "cell_type": "code",
   "execution_count": null,
   "id": "aa60fc27",
   "metadata": {},
   "outputs": [],
   "source": []
  }
 ],
 "metadata": {
  "kernelspec": {
   "display_name": "Python 3 (ipykernel)",
   "language": "python",
   "name": "python3"
  },
  "language_info": {
   "codemirror_mode": {
    "name": "ipython",
    "version": 3
   },
   "file_extension": ".py",
   "mimetype": "text/x-python",
   "name": "python",
   "nbconvert_exporter": "python",
   "pygments_lexer": "ipython3",
   "version": "3.11.4"
  }
 },
 "nbformat": 4,
 "nbformat_minor": 5
}
