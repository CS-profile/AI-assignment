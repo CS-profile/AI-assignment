{
 "cells": [
  {
   "cell_type": "code",
   "execution_count": 1,
   "id": "76653601",
   "metadata": {},
   "outputs": [
    {
     "name": "stdout",
     "output_type": "stream",
     "text": [
      "1122\n"
     ]
    }
   ],
   "source": [
    "print(1122)"
   ]
  },
  {
   "cell_type": "code",
   "execution_count": 2,
   "id": "e4b417fb",
   "metadata": {},
   "outputs": [
    {
     "name": "stdout",
     "output_type": "stream",
     "text": [
      "my nam is Madnia\n"
     ]
    }
   ],
   "source": [
    "print('my nam is Madnia')"
   ]
  },
  {
   "cell_type": "code",
   "execution_count": 3,
   "id": "520a2c40",
   "metadata": {},
   "outputs": [
    {
     "name": "stdout",
     "output_type": "stream",
     "text": [
      "5\n"
     ]
    }
   ],
   "source": [
    "a=2\n",
    "b=3\n",
    "c=a+b\n",
    "print(c)"
   ]
  },
  {
   "cell_type": "code",
   "execution_count": 4,
   "id": "cf922465",
   "metadata": {},
   "outputs": [
    {
     "name": "stdout",
     "output_type": "stream",
     "text": [
      "199.0\n"
     ]
    }
   ],
   "source": [
    " print(float(99) + 100)"
   ]
  },
  {
   "cell_type": "code",
   "execution_count": 6,
   "id": "5bd3cd30",
   "metadata": {},
   "outputs": [
    {
     "data": {
      "text/plain": [
       "int"
      ]
     },
     "execution_count": 6,
     "metadata": {},
     "output_type": "execute_result"
    }
   ],
   "source": [
    "i = 42\n",
    "type(i)"
   ]
  },
  {
   "cell_type": "code",
   "execution_count": 7,
   "id": "29f54f49",
   "metadata": {},
   "outputs": [
    {
     "name": "stdout",
     "output_type": "stream",
     "text": [
      "42.0\n"
     ]
    }
   ],
   "source": [
    "f = float(i)\n",
    ">>> print(f)"
   ]
  },
  {
   "cell_type": "code",
   "execution_count": 8,
   "id": "1e153670",
   "metadata": {},
   "outputs": [
    {
     "data": {
      "text/plain": [
       "float"
      ]
     },
     "execution_count": 8,
     "metadata": {},
     "output_type": "execute_result"
    }
   ],
   "source": [
    "type(f)"
   ]
  },
  {
   "cell_type": "code",
   "execution_count": 9,
   "id": "2bde5bba",
   "metadata": {},
   "outputs": [
    {
     "name": "stdout",
     "output_type": "stream",
     "text": [
      "3.4\n"
     ]
    }
   ],
   "source": [
    "print(17 / 5)"
   ]
  },
  {
   "cell_type": "code",
   "execution_count": 10,
   "id": "15dac84f",
   "metadata": {},
   "outputs": [
    {
     "name": "stdout",
     "output_type": "stream",
     "text": [
      "15.0\n"
     ]
    }
   ],
   "source": [
    "print(30.0 / 2.0)"
   ]
  },
  {
   "cell_type": "code",
   "execution_count": 17,
   "id": "436d8ece",
   "metadata": {},
   "outputs": [
    {
     "data": {
      "text/plain": [
       "str"
      ]
     },
     "execution_count": 17,
     "metadata": {},
     "output_type": "execute_result"
    }
   ],
   "source": [
    "vlue = '1000'\n",
    ">>> type(vlue)"
   ]
  },
  {
   "cell_type": "code",
   "execution_count": 18,
   "id": "29268dea",
   "metadata": {},
   "outputs": [
    {
     "name": "stdout",
     "output_type": "stream",
     "text": [
      "1000\n"
     ]
    }
   ],
   "source": [
    "print(vlue)"
   ]
  },
  {
   "cell_type": "code",
   "execution_count": 20,
   "id": "2cbb84f3",
   "metadata": {},
   "outputs": [
    {
     "data": {
      "text/plain": [
       "int"
      ]
     },
     "execution_count": 20,
     "metadata": {},
     "output_type": "execute_result"
    }
   ],
   "source": [
    "int_val = int(vlue)\n",
    ">>> type(int_val)"
   ]
  },
  {
   "cell_type": "code",
   "execution_count": 21,
   "id": "103e0e8c",
   "metadata": {},
   "outputs": [
    {
     "name": "stdout",
     "output_type": "stream",
     "text": [
      "1001\n"
     ]
    }
   ],
   "source": [
    "print(int_val + 1)"
   ]
  },
  {
   "cell_type": "code",
   "execution_count": 22,
   "id": "b21ec9f8",
   "metadata": {},
   "outputs": [
    {
     "name": "stdout",
     "output_type": "stream",
     "text": [
      "tell me your name? Madnia\n",
      "Welcome Madnia\n"
     ]
    }
   ],
   "source": [
    "intro = input('tell me your name? ')\n",
    "print('Welcome', intro)"
   ]
  },
  {
   "cell_type": "code",
   "execution_count": null,
   "id": "71e70be2",
   "metadata": {},
   "outputs": [],
   "source": []
  }
 ],
 "metadata": {
  "kernelspec": {
   "display_name": "Python 3 (ipykernel)",
   "language": "python",
   "name": "python3"
  },
  "language_info": {
   "codemirror_mode": {
    "name": "ipython",
    "version": 3
   },
   "file_extension": ".py",
   "mimetype": "text/x-python",
   "name": "python",
   "nbconvert_exporter": "python",
   "pygments_lexer": "ipython3",
   "version": "3.11.4"
  }
 },
 "nbformat": 4,
 "nbformat_minor": 5
}
