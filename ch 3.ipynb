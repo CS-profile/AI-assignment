{
 "cells": [
  {
   "cell_type": "code",
   "execution_count": 6,
   "id": "fc329692",
   "metadata": {},
   "outputs": [
    {
     "name": "stdout",
     "output_type": "stream",
     "text": [
      "Smaller\n",
      "Finis\n"
     ]
    }
   ],
   "source": [
    "x = 5\n",
    "if x < 10:\n",
    " print('Smaller')\n",
    "if x > 20:\n",
    " print('Bigger')\n",
    "print('Finis')"
   ]
  },
  {
   "cell_type": "code",
   "execution_count": 8,
   "id": "3ac037c1",
   "metadata": {},
   "outputs": [
    {
     "name": "stdout",
     "output_type": "stream",
     "text": [
      "Equals 5\n",
      "Greater than 4\n",
      "Greater than or Equals 5\n",
      "Less than 6\n",
      "Less than or Equals 5\n",
      "Not equal 6\n"
     ]
    }
   ],
   "source": [
    "x = 5\n",
    "if x == 5 : \n",
    " print('Equals 5')\n",
    "if x > 4 : \n",
    " print('Greater than 4')\n",
    "if x >= 5 :\n",
    " print('Greater than or Equals 5')\n",
    "if x < 6 : print('Less than 6')\n",
    "if x <= 5 :\n",
    "      print('Less than or Equals 5')\n",
    "if x != 6 :\n",
    " print('Not equal 6')"
   ]
  },
  {
   "cell_type": "code",
   "execution_count": 10,
   "id": "df19b774",
   "metadata": {},
   "outputs": [
    {
     "name": "stdout",
     "output_type": "stream",
     "text": [
      "Before 10\n",
      "Is 10\n",
      "Is Still 10\n",
      "Third 10\n",
      "Afterwards 10\n",
      "Before 11\n",
      "Is Still 11\n",
      "Third 11\n",
      "Afterwards 11\n"
     ]
    }
   ],
   "source": [
    "x = 10\n",
    "print('Before 10')\n",
    "if x == 10 :\n",
    " print('Is 10')\n",
    "print('Is Still 10')\n",
    "print('Third 10')\n",
    "print('Afterwards 10')\n",
    "print('Before 11')\n",
    "if x == 11 :\n",
    "    print('Is 11')\n",
    "print('Is Still 11')\n",
    "print('Third 11')\n",
    "print('Afterwards 11')"
   ]
  },
  {
   "cell_type": "code",
   "execution_count": 12,
   "id": "fda6b3fe",
   "metadata": {},
   "outputs": [
    {
     "name": "stdout",
     "output_type": "stream",
     "text": [
      "Bigger than 2\n",
      "Still bigger\n",
      "Done with 2\n",
      "0\n",
      "1\n",
      "2\n",
      "3\n",
      "4\n",
      "Bigger than 2\n",
      "Done with i 4\n",
      "All Done\n"
     ]
    }
   ],
   "source": [
    "x = 5\n",
    "if x > 2 :\n",
    " print('Bigger than 2')\n",
    "print('Still bigger')\n",
    "print('Done with 2')\n",
    "for i in range(5) :\n",
    "    print(i)\n",
    "if i > 2 : \n",
    " print('Bigger than 2')\n",
    "print('Done with i', i)\n",
    "print('All Done') "
   ]
  },
  {
   "cell_type": "code",
   "execution_count": 1,
   "id": "0bfeaa14",
   "metadata": {},
   "outputs": [
    {
     "name": "stdout",
     "output_type": "stream",
     "text": [
      "Bigger\n",
      "All done\n"
     ]
    }
   ],
   "source": [
    "x = 4\n",
    "if x > 2 :\n",
    " print('Bigger')\n",
    "else :\n",
    " print('Smaller')\n",
    "print('All done')\n"
   ]
  },
  {
   "cell_type": "code",
   "execution_count": 3,
   "id": "1876bc27",
   "metadata": {},
   "outputs": [
    {
     "name": "stdout",
     "output_type": "stream",
     "text": [
      "small\n",
      "All done\n"
     ]
    }
   ],
   "source": [
    "x = 0 \n",
    "if x < 2 :\n",
    " print('small')\n",
    "elif x < 10 :\n",
    " print('Medium')\n",
    "else :\n",
    " print('LARGE')\n",
    "print('All done')"
   ]
  },
  {
   "cell_type": "code",
   "execution_count": 7,
   "id": "713616e8",
   "metadata": {},
   "outputs": [
    {
     "name": "stdout",
     "output_type": "stream",
     "text": [
      "Enter a number:13\n",
      "Nice work\n"
     ]
    }
   ],
   "source": [
    "string = input('Enter a number:')\n",
    "try: \n",
    " integer = int(string)\n",
    "except: \n",
    " integer = -1\n",
    "if integer > 0 : \n",
    " print('Nice work')\n",
    "else: \n",
    " print('Not a number')\n",
    "\n",
    "      "
   ]
  },
  {
   "cell_type": "code",
   "execution_count": null,
   "id": "69e4bffc",
   "metadata": {},
   "outputs": [],
   "source": []
  }
 ],
 "metadata": {
  "kernelspec": {
   "display_name": "Python 3 (ipykernel)",
   "language": "python",
   "name": "python3"
  },
  "language_info": {
   "codemirror_mode": {
    "name": "ipython",
    "version": 3
   },
   "file_extension": ".py",
   "mimetype": "text/x-python",
   "name": "python",
   "nbconvert_exporter": "python",
   "pygments_lexer": "ipython3",
   "version": "3.11.4"
  }
 },
 "nbformat": 4,
 "nbformat_minor": 5
}
