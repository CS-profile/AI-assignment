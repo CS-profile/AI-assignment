{
 "cells": [
  {
   "cell_type": "code",
   "execution_count": 10,
   "id": "31e75f99",
   "metadata": {},
   "outputs": [
    {
     "name": "stdout",
     "output_type": "stream",
     "text": [
      "green\n",
      "sour\n",
      "SOUR\n"
     ]
    }
   ],
   "source": [
    "class fruit:\n",
    "    pass\n",
    "class fruit:\n",
    "    color=\"\"\n",
    "    taste=\"\"\n",
    "    avacado=fruit()\n",
    "    avacado.color=\"green\"\n",
    "    avacado.taste=\"sour\"\n",
    "    print(avacado.color)\n",
    "    print(avacado.taste)\n",
    "    \n",
    "    print(avacado.taste.upper())"
   ]
  },
  {
   "cell_type": "code",
   "execution_count": null,
   "id": "48c26415",
   "metadata": {},
   "outputs": [],
   "source": []
  },
  {
   "cell_type": "code",
   "execution_count": 13,
   "id": "6d2a0bbe",
   "metadata": {},
   "outputs": [
    {
     "name": "stdout",
     "output_type": "stream",
     "text": [
      "green\n",
      "sour\n",
      "SOUR\n"
     ]
    }
   ],
   "source": [
    "class fruit:\n",
    "    pass\n",
    "class fruit:\n",
    "    color=\"\"\n",
    "    taste=\"\"\n",
    "    avacado=fruit()\n",
    "    avacado.color=\"green\"\n",
    "    avacado.taste=\"sour\"\n",
    "    print(avacado.color)\n",
    "    print(avacado.taste)\n",
    "    \n",
    "    print(avacado.taste.upper())\n",
    "    orange=fruit()\n",
    "    orange.color=\"orange\"\n",
    "    orange.taste=\"sour\"\n"
   ]
  },
  {
   "cell_type": "code",
   "execution_count": 1,
   "id": "bb0cd742",
   "metadata": {},
   "outputs": [
    {
     "name": "stdout",
     "output_type": "stream",
     "text": [
      "roses arered,\n"
     ]
    },
    {
     "ename": "NameError",
     "evalue": "name 'voilet' is not defined",
     "output_type": "error",
     "traceback": [
      "\u001b[1;31m---------------------------------------------------------------------------\u001b[0m",
      "\u001b[1;31mNameError\u001b[0m                                 Traceback (most recent call last)",
      "Cell \u001b[1;32mIn[1], line 9\u001b[0m\n\u001b[0;32m      7\u001b[0m this_pun_is_for_you\u001b[38;5;241m=\u001b[39m\u001b[38;5;124m\"\u001b[39m\u001b[38;5;124msugar is sweet and so are you\u001b[39m\u001b[38;5;124m\"\u001b[39m\n\u001b[0;32m      8\u001b[0m \u001b[38;5;28mprint\u001b[39m(\u001b[38;5;124m\"\u001b[39m\u001b[38;5;124mroses are\u001b[39m\u001b[38;5;132;01m{}\u001b[39;00m\u001b[38;5;124m,\u001b[39m\u001b[38;5;124m\"\u001b[39m\u001b[38;5;241m.\u001b[39mformat(rose\u001b[38;5;241m.\u001b[39mcolor))\n\u001b[1;32m----> 9\u001b[0m \u001b[38;5;28mprint\u001b[39m(\u001b[38;5;124m\"\u001b[39m\u001b[38;5;124mvoilet are\u001b[39m\u001b[38;5;132;01m{}\u001b[39;00m\u001b[38;5;124m,\u001b[39m\u001b[38;5;124m\"\u001b[39m\u001b[38;5;241m.\u001b[39mformat(voilet\u001b[38;5;241m.\u001b[39mcolor))\n\u001b[0;32m     10\u001b[0m \u001b[38;5;28mprint\u001b[39m(this_pun_is_for_you)\n",
      "\u001b[1;31mNameError\u001b[0m: name 'voilet' is not defined"
     ]
    }
   ],
   "source": [
    "class Flower:\n",
    "    color=\"unknown\"\n",
    "rose=Flower()\n",
    "rose.color=\"red\"\n",
    "violet=Flower()\n",
    "violet.color=\"blue\"\n",
    "this_pun_is_for_you=\"sugar is sweet and so are you\"\n",
    "print(\"roses are{},\".format(rose.color))\n",
    "print(\"voilet are{},\".format(voilet.color))\n",
    "print(this_pun_is_for_you)"
   ]
  },
  {
   "cell_type": "code",
   "execution_count": 3,
   "id": "a8a976d0",
   "metadata": {},
   "outputs": [],
   "source": [
    "class cat:\n",
    "     pass\n",
    "myCat=cat()"
   ]
  },
  {
   "cell_type": "code",
   "execution_count": 5,
   "id": "ce7f6560",
   "metadata": {},
   "outputs": [
    {
     "name": "stdout",
     "output_type": "stream",
     "text": [
      "meaoww....I am tommy meaowww\n"
     ]
    }
   ],
   "source": [
    "class cat:\n",
    "    name=\"\"\n",
    "    def speak(self):\n",
    "        print(\"meaoww....I am {} meaowww\" .format(self.name))\n",
    "mypet=cat()\n",
    "mypet.name=\"tommy\"\n",
    "mypet.speak()\n",
    "\n",
    "    "
   ]
  },
  {
   "cell_type": "code",
   "execution_count": 6,
   "id": "b925831b",
   "metadata": {},
   "outputs": [
    {
     "data": {
      "text/plain": [
       "24"
      ]
     },
     "execution_count": 6,
     "metadata": {},
     "output_type": "execute_result"
    }
   ],
   "source": [
    "class cat():\n",
    "    years=0\n",
    "    def age (self):\n",
    "        return self.year * 12\n",
    "    \n",
    "mypet=cat()\n",
    "mypet.year=2\n",
    "mypet.age()\n",
    "    \n",
    "    "
   ]
  },
  {
   "cell_type": "code",
   "execution_count": 25,
   "id": "059d73c9",
   "metadata": {},
   "outputs": [],
   "source": [
    "\n",
    "class fruit():\n",
    "    def __init__(self,color):\n",
    "        self.color=color\n",
    "        def __str__ (self):\n",
    "            return \"this banana is {} and its color is {}.format (self.color)\"\n",
    "        fruit=banana(\"yellow\", \"sweet\")\n",
    "        print(fruit.color)      \n",
    "    "
   ]
  },
  {
   "cell_type": "code",
   "execution_count": 26,
   "id": "fa2f6a6e",
   "metadata": {},
   "outputs": [
    {
     "name": "stdout",
     "output_type": "stream",
     "text": [
      "Apple color is red and its flavor is sweet \n",
      "Help on class apple in module __main__:\n",
      "\n",
      "class apple(builtins.object)\n",
      " |  apple(color, flavor)\n",
      " |  \n",
      " |  Methods defined here:\n",
      " |  \n",
      " |  __init__(self, color, flavor)\n",
      " |      Initialize self.  See help(type(self)) for accurate signature.\n",
      " |  \n",
      " |  __str__(self)\n",
      " |      Return str(self).\n",
      " |  \n",
      " |  ----------------------------------------------------------------------\n",
      " |  Data descriptors defined here:\n",
      " |  \n",
      " |  __dict__\n",
      " |      dictionary for instance variables (if defined)\n",
      " |  \n",
      " |  __weakref__\n",
      " |      list of weak references to the object (if defined)\n",
      "\n"
     ]
    }
   ],
   "source": [
    "class apple:\n",
    "    def __init__(self,color,flavor):\n",
    "        self.color=color\n",
    "        self.flavor=flavor\n",
    "    def __str__(self):\n",
    "        return \"Apple color is {} and its flavor is {} \".format(self.color,self.flavor)\n",
    "jonagold=apple(\"red\",\"sweet\")\n",
    "print(jonagold)\n",
    "help(apple)"
   ]
  },
  {
   "cell_type": "code",
   "execution_count": 27,
   "id": "7460bed0",
   "metadata": {},
   "outputs": [
    {
     "name": "stdout",
     "output_type": "stream",
     "text": [
      "Help on class Apple in module __main__:\n",
      "\n",
      "class Apple(builtins.object)\n",
      " |  Apple(c, f)\n",
      " |  \n",
      " |  Methods defined here:\n",
      " |  \n",
      " |  __init__(self, c, f)\n",
      " |      Initialize self.  See help(type(self)) for accurate signature.\n",
      " |  \n",
      " |  __str__(self)\n",
      " |      return the values of color and flavor\n",
      " |  \n",
      " |  ----------------------------------------------------------------------\n",
      " |  Data descriptors defined here:\n",
      " |  \n",
      " |  __dict__\n",
      " |      dictionary for instance variables (if defined)\n",
      " |  \n",
      " |  __weakref__\n",
      " |      list of weak references to the object (if defined)\n",
      "\n"
     ]
    }
   ],
   "source": [
    "class Apple:\n",
    "    def __init__(self, c, f):\n",
    "        self.color=c\n",
    "        self.flavor=f\n",
    "    \n",
    "    def __str__(self):\n",
    "        \"\"\"return the values of color and flavor\"\"\"\n",
    "        return \"This is apple {} and this color is {}\". format(self.color, self.flavor)\n",
    "help(Apple)"
   ]
  },
  {
   "cell_type": "code",
   "execution_count": 29,
   "id": "dd80bb57",
   "metadata": {},
   "outputs": [
    {
     "name": "stdout",
     "output_type": "stream",
     "text": [
      "Meow I'm Luna! Meow.\n",
      "Moooo I'm Milky! Moooo.\n"
     ]
    }
   ],
   "source": [
    "\n",
    "class Animal:\n",
    "    sound=\"\"\n",
    "    def __init__(self, name):\n",
    "        self.name=name\n",
    "    def speak(self):\n",
    "        print(\"{sound} I'm {name}! {sound}.\".format(sound=self.sound, name=self.name))\n",
    "\n",
    "class Cat(Animal):\n",
    "    sound=\"Meow\"\n",
    "mycat=Cat(\"Luna\")\n",
    "mycat.speak()\n",
    "\n",
    "class Cow(Animal):\n",
    "    sound=\"Moooo\"\n",
    "mycow=Cow(\"Milky\")\n",
    "mycow.speak()"
   ]
  },
  {
   "cell_type": "code",
   "execution_count": 30,
   "id": "85a8c3ce",
   "metadata": {},
   "outputs": [],
   "source": [
    "class Repository:\n",
    "    def __init__(self):\n",
    "        self.packages={}\n",
    "    def add_packages(self, packages):\n",
    "        self.packages[packages.name]=package\n",
    "    def total_size(self):\n",
    "        result=0\n",
    "        for package in self.packages.values():\n",
    "            result+=package.size\n",
    "        return result"
   ]
  },
  {
   "cell_type": "code",
   "execution_count": 31,
   "id": "68999775",
   "metadata": {},
   "outputs": [
    {
     "name": "stdout",
     "output_type": "stream",
     "text": [
      "This is Cotton made of J..\n"
     ]
    }
   ],
   "source": [
    "class Clothing:\n",
    "    material=\"\"\n",
    "    def __init__(self, name):\n",
    "        self.name=name\n",
    "    def checkmate(self):\n",
    "        print(\"This is {} made of {}.\".format(self.material, self.name))\n",
    "        \n",
    "class Shirt(Clothing):\n",
    "    material=\"Cotton\"\n",
    "myshirt=Shirt(\"J.\")\n",
    "myshirt.checkmate()"
   ]
  },
  {
   "cell_type": "code",
   "execution_count": null,
   "id": "11bb1c88",
   "metadata": {},
   "outputs": [],
   "source": []
  }
 ],
 "metadata": {
  "kernelspec": {
   "display_name": "Python 3 (ipykernel)",
   "language": "python",
   "name": "python3"
  },
  "language_info": {
   "codemirror_mode": {
    "name": "ipython",
    "version": 3
   },
   "file_extension": ".py",
   "mimetype": "text/x-python",
   "name": "python",
   "nbconvert_exporter": "python",
   "pygments_lexer": "ipython3",
   "version": "3.11.4"
  }
 },
 "nbformat": 4,
 "nbformat_minor": 5
}
